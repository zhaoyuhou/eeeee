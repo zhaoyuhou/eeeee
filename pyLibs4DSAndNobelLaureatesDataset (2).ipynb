{
 "cells": [
  {
   "cell_type": "markdown",
   "id": "91421d73-c42b-4ea7-adcc-2688ede7cd29",
   "metadata": {},
   "source": [
    "# Python Libraries for Data Analytics & Data Science\r",
    "- **\tNumP**y: A library that makes a variety of mathematical and statistical operations easier; it is also the basis for many features of the pandas library. NumPy is implemented in the C language and hence provides much faster array processing performance as required for large sets of data in a distributed- **•\tMatplotl**ib: A visualization library that makes it quick and easy to generate graphs and charts from our data- **\n",
    "•\tSeab**orn – modern visualization package built on Matplotl- **P\n",
    "•\tpa**ndas: A Python library created specifically to facilitate working with data. This is the bread and butter of a lot of Python data-science wo- **.\r\n",
    "•\tscikit-**learn: Probably the most popular library for machine learning in Py\n",
    "\n",
    "- **Working with Numpy** thon.\r\n"
   ]
  },
  {
   "cell_type": "code",
   "execution_count": null,
   "id": "001e2580-1bd4-4b1d-91de-9cbeb860464d",
   "metadata": {},
   "outputs": [],
   "source": [
    "import numpy as np\n",
    "np.array([1, 2, 3])\n"
   ]
  },
  {
   "cell_type": "markdown",
   "id": "82f4e0ac-76be-45b7-aa03-2e43834aa761",
   "metadata": {},
   "source": [
    "**numpy arrays** share many properties with Python lists"
   ]
  },
  {
   "cell_type": "code",
   "execution_count": null,
   "id": "b5d7484d-df2b-444a-835a-eb985d43eeda",
   "metadata": {},
   "outputs": [],
   "source": [
    "a = np.array([1, 3, 2])\n",
    "len(a)\n",
    "a.sort()\n",
    "a"
   ]
  },
  {
   "cell_type": "markdown",
   "id": "f4113b1d-3724-4b1a-8552-b14275afcf71",
   "metadata": {},
   "source": [
    "**arange** : In analogy with the list range() function, we can create array ranges in NumPy using np.arange()"
   ]
  },
  {
   "cell_type": "code",
   "execution_count": null,
   "id": "20cd0717-7b6b-4245-8474-02a9bd947175",
   "metadata": {},
   "outputs": [],
   "source": [
    "r = np.arange(17)\n",
    "r"
   ]
  },
  {
   "cell_type": "markdown",
   "id": "d7e8710f-4248-4468-8f88-ac042bf3f67a",
   "metadata": {},
   "source": [
    "Computations with numpy arrays are **much faster** than the corresponding operations with lists. Because NumPy itself is array-based, such computations **can also typically be expressed much more compactly**, without the need for loops or even comprehensions. In particular, NumPy arrays support vectorized operations, whereby we can (say) multiply every element in an array by a particular number all at once."
   ]
  },
  {
   "cell_type": "markdown",
   "id": "d6b48b25-3f78-49e1-bc0b-4080ed82e587",
   "metadata": {},
   "source": [
    "Import the numPy, Matplotlib and pandas libraries into the Python interpreter\n",
    "Then load the data set for the Nobel Laureates and show the summary stats for numeric fields"
   ]
  },
  {
   "cell_type": "code",
   "execution_count": null,
   "id": "085a20dc-b248-4376-a916-cd861df7b06a",
   "metadata": {},
   "outputs": [],
   "source": [
    "[3 * i for i in r]   # This is Python can be expressed more compactly as \n",
    "3 * a                # in numpy"
   ]
  },
  {
   "cell_type": "markdown",
   "id": "daf16140-4f28-48a8-8d21-432e0a2360ec",
   "metadata": {},
   "source": [
    "**timeit** - we can use the timeit library to compare execution speeds for normal\n",
    "Python and numpy structures. It Python let's do some heavy computation and time it:"
   ]
  },
  {
   "cell_type": "code",
   "execution_count": null,
   "id": "e3c55ca4-c910-44c7-ab76-e06e513ce41c",
   "metadata": {},
   "outputs": [],
   "source": [
    "%%timeit\n",
    "[i**2 for i in range(1000)]"
   ]
  },
  {
   "cell_type": "markdown",
   "id": "47316b26-2be3-430f-bbc5-10c6b88b568e",
   "metadata": {},
   "source": [
    "using numpy?  -- You should see a huge difference in speeds!"
   ]
  },
  {
   "cell_type": "code",
   "execution_count": null,
   "id": "f88c7662-eeeb-4fe1-9d80-2b445cee5e9d",
   "metadata": {},
   "outputs": [],
   "source": [
    "%%timeit\n",
    "np.arange(1000)**2"
   ]
  },
  {
   "cell_type": "markdown",
   "id": "7f66b275-356a-40a4-ac56-fb82f5577c08",
   "metadata": {},
   "source": [
    "Numpy also provides support for **multi-dimensional arrays**"
   ]
  },
  {
   "cell_type": "code",
   "execution_count": null,
   "id": "444d19ef-5b9d-41a8-b444-c930be369c99",
   "metadata": {},
   "outputs": [],
   "source": [
    "a = np.array([[1, 2, 3], [4, 5, 6]])\n",
    "a"
   ]
  },
  {
   "cell_type": "markdown",
   "id": "3d898e4a-5127-4a58-9e42-87c2cfef579c",
   "metadata": {},
   "source": [
    "# **Data Visualization with Matplotlib**\r\n",
    "Matplotlib is a powerful visualization tool for Python that can do an absurdly large number of awesome things.\r\n",
    "The exact mechanics of getting Matplotlib plots to display varies widely depending on the exact details of your setup. The most explicit way to show plots, which works on most systems from the REPL, is to use the show() method:\r\n"
   ]
  },
  {
   "cell_type": "code",
   "execution_count": null,
   "id": "9bbc95ca-85fc-4a22-adf1-06a1bc2fe520",
   "metadata": {},
   "outputs": [],
   "source": [
    "import numpy as np\n",
    "import matplotlib.pyplot as plt\n",
    "x = np.linspace(-2, 2, 100)\n",
    "fig, ax = plt.subplots(1, 1)\n",
    "ax.plot(x, x*x)\n",
    "plt.show()\n",
    "%matplotlib inline"
   ]
  },
  {
   "cell_type": "code",
   "execution_count": null,
   "id": "b6ec5efc-b6cb-49c3-9e2e-b784b8fe77af",
   "metadata": {
    "scrolled": true
   },
   "outputs": [],
   "source": [
    "import numpy as np\n",
    "import matplotlib.pyplot as plt\n",
    "import pandas as pd\n",
    "\n",
    "nobel = pd.read_csv(\"laureates.csv\")\n",
    "nobel.describe()"
   ]
  },
  {
   "cell_type": "code",
   "execution_count": null,
   "id": "95f691ad-92bb-4b22-a409-bd6581050c69",
   "metadata": {},
   "outputs": [],
   "source": [
    "nobel.head(10)"
   ]
  },
  {
   "cell_type": "code",
   "execution_count": null,
   "id": "c02ee242-fde4-4942-812b-72aa6cdb0e69",
   "metadata": {},
   "outputs": [],
   "source": [
    "nobel.info()"
   ]
  },
  {
   "cell_type": "markdown",
   "id": "cc97a4ed-533c-430f-8d95-7be001ffad80",
   "metadata": {},
   "source": [
    "Let’s use array square brackets and a boolean criterion on the \"surname\" column to find record for the Physics noble laureate Feynman "
   ]
  },
  {
   "cell_type": "code",
   "execution_count": null,
   "id": "c61641f7-2c81-4ec4-87b4-69ee1bb320de",
   "metadata": {},
   "outputs": [],
   "source": [
    "nobel[nobel[\"surname\"] == \"Feynman\"]"
   ]
  },
  {
   "cell_type": "code",
   "execution_count": null,
   "id": "6dcc1e51-6af5-4914-843c-f2c04746e483",
   "metadata": {},
   "outputs": [],
   "source": [
    "nobel[nobel[\"surname\"] == \"Feynman\"].year"
   ]
  },
  {
   "cell_type": "markdown",
   "id": "8c610b93-0638-4d35-bb3f-1803befe1778",
   "metadata": {},
   "source": [
    "By using the correct index (i.e., 86), we can confirm that the value in that case is True:"
   ]
  },
  {
   "cell_type": "code",
   "execution_count": null,
   "id": "691716a5-b67b-40bf-b691-5a681039ef46",
   "metadata": {},
   "outputs": [],
   "source": [
    "(nobel[\"surname\"] == \"Feynman\")[86]"
   ]
  },
  {
   "cell_type": "markdown",
   "id": "529bcaf6-2d23-41fa-bd4c-d39dfc8b2d5c",
   "metadata": {},
   "source": [
    "Another method for getting the year is by specifying the column along with the boolean criterion, which we might try like this (only the most relevant line of output is shown). This returns just the overall id (in this case, 86) and the column of interest."
   ]
  },
  {
   "cell_type": "code",
   "execution_count": null,
   "id": "6698e0bc-650a-40d4-ad9c-a609728f26ff",
   "metadata": {},
   "outputs": [],
   "source": [
    "nobel.loc[nobel[\"surname\"] == \"Feynman\", \"year\"]"
   ]
  },
  {
   "cell_type": "markdown",
   "id": "7f8020d3-b12d-4647-9d90-5b6ca241a3ba",
   "metadata": {},
   "source": [
    "Finding a record by substring."
   ]
  },
  {
   "cell_type": "code",
   "execution_count": null,
   "id": "80fc45a0-4bc7-43c7-98f0-0e67dc5ae201",
   "metadata": {},
   "outputs": [],
   "source": [
    "nobel.loc[nobel[\"firstname\"].str.contains(\"Kip\")]"
   ]
  },
  {
   "cell_type": "markdown",
   "id": "4754d97b-5e26-428d-990f-e0b7a35d031f",
   "metadata": {},
   "source": [
    "Let's do sring search on a surname that produces multiple values\n",
    ">> nobel.loc[nobel[\"surname\"].str.contains(\"Feynman\")]  # fails because of too many NaNs\n",
    ">> Below shows the culprits "
   ]
  },
  {
   "cell_type": "code",
   "execution_count": null,
   "id": "04f391e7-044e-40be-9c0f-f866aac5740a",
   "metadata": {},
   "outputs": [],
   "source": [
    "nobel.loc[nobel[\"surname\"].isnull()]"
   ]
  },
  {
   "cell_type": "markdown",
   "id": "b33b4231-fa31-48ac-9a72-e21601fd758d",
   "metadata": {},
   "source": [
    "Here's how to filter NaNs - using by passing the option na=False to contains():"
   ]
  },
  {
   "cell_type": "code",
   "execution_count": null,
   "id": "76a43647-3abe-4642-bb6b-e4f104cdb2cc",
   "metadata": {},
   "outputs": [],
   "source": [
    "nobel.loc[nobel[\"surname\"].str.contains(\"Feynman\", na=False)]"
   ]
  },
  {
   "cell_type": "markdown",
   "id": "ca174845-3bfe-4c33-b31c-e7b4abaf6718",
   "metadata": {},
   "source": [
    "Although there’s only one Nobel laureate named “Feynman”, there are famously several named “Curie”\n",
    "Let's see dind Curies in the laureates.csv dataset."
   ]
  },
  {
   "cell_type": "code",
   "execution_count": null,
   "id": "a472e758-1d81-44b2-8780-6833c4b84459",
   "metadata": {},
   "outputs": [],
   "source": [
    "curies = nobel.loc[nobel[\"surname\"].str.contains(\"Curie\", na=False)]\n",
    "curies"
   ]
  },
  {
   "cell_type": "markdown",
   "id": "bdfb1c91-ea41-427d-b69a-480ceaffac0c",
   "metadata": {},
   "source": [
    "With the result assigned to the variable curies we can get the first name and surname for each Curie laureate as follows:"
   ]
  },
  {
   "cell_type": "code",
   "execution_count": null,
   "id": "155371bf-46cb-4847-80e2-c3de3351d80a",
   "metadata": {},
   "outputs": [],
   "source": [
    "curies[[\"firstname\", \"surname\"]]"
   ]
  },
  {
   "cell_type": "markdown",
   "id": "5f48fa9a-fd62-4917-abd6-919e6c66f6f8",
   "metadata": {},
   "source": [
    "Marie Skłodowska-Curie is the only person to win a Nobel Prize for two different sciences. \n",
    "Let’s use pandas to see if there are any other multiple Nobel prize winners.\n",
    "We use groupby() to group the winners by name and then use the size() method to see how many there are:"
   ]
  },
  {
   "cell_type": "code",
   "execution_count": null,
   "id": "00e1f371-7c6a-4464-8c02-63e8c43a8c88",
   "metadata": {},
   "outputs": [],
   "source": [
    "nobel.groupby([\"firstname\", \"surname\"]).size()"
   ]
  },
  {
   "cell_type": "markdown",
   "id": "f6ee4637-47ec-4713-abf3-e8942fe8a006",
   "metadata": {},
   "source": [
    "Let's add sort_values() to find any multiple laureates:"
   ]
  },
  {
   "cell_type": "code",
   "execution_count": null,
   "id": "95b4aa3d-ceb4-4e31-8537-1c75af5885bd",
   "metadata": {},
   "outputs": [],
   "source": [
    "nobel.groupby([\"firstname\", \"surname\"]).size().sort_values()"
   ]
  },
  {
   "cell_type": "markdown",
   "id": "0b04d773-892c-4b31-9159-056ca8446733",
   "metadata": {},
   "source": [
    "Even better is to use ID and groupby"
   ]
  },
  {
   "cell_type": "code",
   "execution_count": null,
   "id": "37664b3a-a15b-4aab-a977-e36212abf6ee",
   "metadata": {},
   "outputs": [],
   "source": [
    "laureates = nobel.groupby([\"id\", \"firstname\", \"surname\"])\n",
    "sizes = laureates.size()\n",
    "sizes[sizes > 1]"
   ]
  },
  {
   "cell_type": "markdown",
   "id": "0a062676-aa34-4cef-902a-72d18dfec333",
   "metadata": {},
   "source": [
    "One of pandas’ greatest strengths is its ability to deal with times and time series, so let’s start by taking a look at selecting dates. One way we can do this is by searching for laureates by exact birthday as a string"
   ]
  },
  {
   "cell_type": "code",
   "execution_count": null,
   "id": "157a5a37-b91e-4876-855e-c4c7d3bf169b",
   "metadata": {},
   "outputs": [],
   "source": [
    "nobel.loc[nobel[\"born\"] == \"1879-03-14\"]"
   ]
  },
  {
   "cell_type": "markdown",
   "id": "863a2886-da13-4bc0-99ee-9137163fb99c",
   "metadata": {},
   "source": [
    "Einstein birthday March 14 or 3/14 is labeled as Pi Day in America -  the first three digits of π ≈ 3.14. Another popular Math constant is Tau = 2*π = 6.28 - which by calendar will be 6/28. Let's see if any laureates have this birthday"
   ]
  },
  {
   "cell_type": "code",
   "execution_count": null,
   "id": "0deb4869-ff15-48d5-9857-1b1ee0d8e2a4",
   "metadata": {},
   "outputs": [],
   "source": [
    "nobel.loc[nobel[\"born\"].str.contains(\"06-08\", na=False)]"
   ]
  },
  {
   "cell_type": "markdown",
   "id": "1b1d981c-789a-48a5-ade7-110b3cd31a11",
   "metadata": {},
   "source": [
    "We can narrow down by restricting the results to Nobel laureates in Physics using the & operator to perform a logical and as follows"
   ]
  },
  {
   "cell_type": "code",
   "execution_count": null,
   "id": "dadae575-e872-47de-9f8f-85d86ad5db94",
   "metadata": {},
   "outputs": [],
   "source": [
    "nobel.loc[(nobel[\"born\"].astype('string').str.contains(\"06-28\")) & (nobel[\"category\"] == \"physics\")]"
   ]
  },
  {
   "cell_type": "markdown",
   "id": "04397e77-fa83-4cb4-b4ae-54e6eeee2c79",
   "metadata": {},
   "source": [
    "Let’s take a look at the first record using iloc (“index location”) to find it by its index number, which is 79:"
   ]
  },
  {
   "cell_type": "code",
   "execution_count": null,
   "id": "70ae1a86-9781-450b-88a7-9e33f697ca89",
   "metadata": {},
   "outputs": [],
   "source": [
    "nobel.iloc[79]"
   ]
  },
  {
   "cell_type": "markdown",
   "id": "3830d272-c21c-4f8e-8338-9cd891591dc2",
   "metadata": {},
   "source": [
    "Speaking of birthdates, the lifespans of Nobel laureates have been the subject of some scientific research over the years. An interesting exercise is to compute the lifespan of each nobel laurettes using the year of birth and year of death\n",
    "We will do this by creating a new lifespan colunn in the dataframe and using NumPy's magic time delta\n",
    "nobel[\"lifespan\"] = (nobel[\"died\"] - nobel[\"born\"])/np.timedelta64(1, \"Y\")"
   ]
  },
  {
   "cell_type": "code",
   "execution_count": null,
   "id": "a7014710-5a07-43d0-b2b6-2b0ffca21238",
   "metadata": {},
   "outputs": [],
   "source": []
  }
 ],
 "metadata": {
  "kernelspec": {
   "display_name": "Python 3 (ipykernel)",
   "language": "python",
   "name": "python3"
  },
  "language_info": {
   "codemirror_mode": {
    "name": "ipython",
    "version": 3
   },
   "file_extension": ".py",
   "mimetype": "text/x-python",
   "name": "python",
   "nbconvert_exporter": "python",
   "pygments_lexer": "ipython3",
   "version": "3.10.8"
  }
 },
 "nbformat": 4,
 "nbformat_minor": 5
}
